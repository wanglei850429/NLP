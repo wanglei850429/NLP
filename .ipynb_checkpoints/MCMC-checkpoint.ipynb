{
 "cells": [
  {
   "cell_type": "markdown",
   "metadata": {},
   "source": [
    "# 蒙特卡洛法\n",
    "使用随机数来解决一些复杂问题的计算，如投点法和期望法求积分。但是计算机只能对均匀分布的函数采样，一般对于简单的复杂概率密度函数的采样可以先对PDF（概率密度函数）求CDF（概率密度累计函数），然后再求CDF的反函数$F^{-1}(u)$,通过均匀分布采样一个u，$F^{-1}(u)$对应的值就是采样的x。\n",
    "\n",
    "对于CDF或反函数不可求的情况可以采用接受-拒绝采样。接受-拒绝采样的样本点之间没有关系"
   ]
  },
  {
   "cell_type": "markdown",
   "metadata": {},
   "source": [
    "投点法求积分\n",
    "\n",
    "$\\int_0^2x^2dx$"
   ]
  },
  {
   "cell_type": "code",
   "execution_count": 13,
   "metadata": {
    "ExecuteTime": {
     "end_time": "2019-06-18T09:17:15.173270Z",
     "start_time": "2019-06-18T09:17:15.161301Z"
    }
   },
   "outputs": [],
   "source": [
    "import random\n",
    "import numpy as np\n",
    "import scipy.special as ss\n",
    "import matplotlib.pyplot as plt\n",
    "import math\n",
    "%matplotlib inline"
   ]
  },
  {
   "cell_type": "code",
   "execution_count": 2,
   "metadata": {
    "ExecuteTime": {
     "end_time": "2019-06-18T07:54:41.028082Z",
     "start_time": "2019-06-18T07:54:39.692653Z"
    }
   },
   "outputs": [
    {
     "data": {
      "text/plain": [
       "2.666528"
      ]
     },
     "execution_count": 2,
     "metadata": {},
     "output_type": "execute_result"
    }
   ],
   "source": [
    "def integrate(f,L,H):\n",
    "    n = 1000000\n",
    "    cnt=0.0\n",
    "    \n",
    "    for i in range(n):\n",
    "        x=random.uniform(L,H)\n",
    "        y=random.uniform(f(L),f(H))\n",
    "        if f(x)>y:\n",
    "            cnt+=1\n",
    "    return (cnt/float(n))*((H-L)*(f(H)-f(L)))\n",
    "integrate(lambda x:x*x,0,2)"
   ]
  },
  {
   "cell_type": "markdown",
   "metadata": {},
   "source": [
    "# 马尔科夫链蒙特卡洛法\n",
    "## Metropolis Hastings算法\n",
    "马尔科夫链迭代N次后会达到平稳分布，如果这个分布是要采样的分布，那么在N次迭代后，N+1次后抽样的样本就是要采样的样本。这就是马尔科夫链蒙特卡洛的基本思想。\n",
    "\n",
    "那么如何构建状态转移矩阵？\n",
    "\n",
    "达到平稳分布需要满足细致平稳条件，$\\pi(i)q(j|i)=\\pi(j)q(i|j)$，一般我们随便构造的易采样的分布q并不能满足这个条件。\n",
    "\n",
    "$\\pi(i)q(j|i)\\alpha(j|i)=\\pi(j)q(i|j)\\alpha(i|j)$\n",
    "\n",
    "$\\alpha(j|i)=\\pi(j)q(i|j)$\n",
    "\n",
    "$\\alpha(i|j)=\\pi(i)q(j|i)$\n",
    "\n",
    "另一边的\\alpha为1,提高接受率\n",
    "\n",
    "$\\alpha = min(1,\\frac{\\pi(j)q(i|j)}{\\pi(i)q(j|i)})$ 一般构造的q矩阵是对称的。\n",
    "\n",
    "$\\alpha = min(1,\\frac{\\pi(j)}{\\pi(i)})$\n",
    "\n",
    "生成一个均匀分布随机采样a，如果$\\alpha>a$则接受q分布的这个采样，否则保持之前的采样"
   ]
  },
  {
   "cell_type": "code",
   "execution_count": 10,
   "metadata": {
    "ExecuteTime": {
     "end_time": "2019-06-18T07:57:30.745846Z",
     "start_time": "2019-06-18T07:57:27.967229Z"
    }
   },
   "outputs": [
    {
     "data": {
      "image/png": "[encoded data removed]",
      "text/plain": [
       "<Figure size 432x288 with 1 Axes>"
      ]
     },
     "metadata": {
      "needs_background": "light"
     },
     "output_type": "display_data"
    }
   ],
   "source": [
    "def beta(a,b,x):\n",
    "    gammaAB=ss.gamma(a+b)\n",
    "    gammaA=ss.gamma(a)\n",
    "    gammaB=ss.gamma(b)\n",
    "    return (gammaAB/(gammaA*gammaB))*(x**(a-1))*((1-x)**(b-1))\n",
    "\n",
    "def beta_s(a,b,x):\n",
    "    return (x**(a-1))*((1-x)**(b-1))\n",
    "\n",
    "def beta_mcmc(a,b):\n",
    "    states=[]\n",
    "    cur = random.uniform(0,1) #初始状态\n",
    "    \n",
    "    for i in range(1000000):\n",
    "        states.append(cur)\n",
    "        next = random.uniform(0,1) #构造均匀分布为q\n",
    "        accept = min(1,beta_s(a,b,next)/beta_s(a,b,cur)) #常数项部分都相等可以省去无需计算\n",
    "        if accept > random.uniform(0,1):\n",
    "            cur = next\n",
    "    return states[-10000:]\n",
    "\n",
    "def plot_mh(a,b):\n",
    "    x = []\n",
    "    y = []\n",
    "    x_list = np.linspace(0,1,100)\n",
    "    for i in x_list:\n",
    "        x.append(i)\n",
    "        y.append(beta(a,b,i))\n",
    "    plt.plot(x,y,label='Real Distribution a='+str(a)+' b='+str(b))\n",
    "    plt.hist(beta_mcmc(a,b),density=True,bins=50,histtype='step',label='Simulated with MCMC a='+str(a)+' b='+str(b))\n",
    "    plt.legend()\n",
    "    \n",
    "plot_mh(2,5)"
   ]
  },
  {
   "cell_type": "markdown",
   "metadata": {},
   "source": [
    "## Gibbs采样\n",
    "M-H通过引入接受率来满足细致平稳条件。\n",
    "\n",
    "在二维以上时，可以换一个思路，没有接受率的限制，采样速度更快。\n",
    "\n",
    "假设有二维空间中三个点，$A(X_1^{(1)},X_2^{(1)})，B(X_1^{(1)},X_2^{(2)})$\n",
    "\n",
    "两点之间相互转移 (一个轴保持不变)\n",
    "\n",
    "$\\pi(X_1^{(1)},X_2^{(1)})\\pi(X_2^{(2)}|X_1^{(1)})=\\pi(X_1^{(1)})\\pi(X_2^{(1)}|X_1^{(1)})\\pi(X_2^{(2)}|X_1^{(1)})$\n",
    "\n",
    "$\\pi(X_1^{(1)},X_2^{(2)})\\pi(X_1^{(2)}|X_1^{(1)})=\\pi(X_1^{(1)})\\pi(X_2^{(2)}|X_1^{(1)})\\pi(X_2^{(1)}|X_1^{(1)})$\n",
    "\n",
    "在$X_1^{(1)}$这条直线上，用条件概率分布$\\pi(X|X_1^{(1)})$作为转移矩阵，任意两点转移满足细致平稳条件。\n",
    "\n",
    "若从$(X_1^{(0)},X_2^{(0)})$跳到$(X_1^{(1)},X_2^{(1)})$,需要经过$(X_1^{(0)},X_2^{(1)})$"
   ]
  },
  {
   "cell_type": "markdown",
   "metadata": {},
   "source": [
    "对二维正态分布进行采样\n",
    "\n",
    "$\\mu=(\\mu_1,\\mu_2)=(5,-1)$\n",
    "\n",
    "$\\Sigma=\\begin{gathered}\\begin{pmatrix}\\sigma_1^2 & \\rho\\sigma_1\\sigma_2 \\\\ \\rho\\sigma_1\\sigma_2 & \\sigma_2^2 \\end{pmatrix}\\end{gathered} =\\begin{gathered}\\begin{pmatrix}1 & 1 \\\\ 1 & 4 \\end{pmatrix}\\end{gathered}$\n",
    "\n",
    "$P(x_1|x_2)=Norm(\\mu_1+\\rho(\\frac{\\sigma_1}{\\sigma_2})(x_2-\\mu_2),(1-\\rho^2)\\sigma_1^2)$\n",
    "\n",
    "$P(x_2|x_1)=Norm(\\mu_2+\\rho(\\frac{\\sigma_2}{\\sigma_1})(x_1-\\mu_1),(1-\\rho^2)\\sigma_2^2)$"
   ]
  },
  {
   "cell_type": "code",
   "execution_count": 14,
   "metadata": {
    "ExecuteTime": {
     "end_time": "2019-06-18T09:17:26.767084Z",
     "start_time": "2019-06-18T09:17:19.232568Z"
    }
   },
   "outputs": [
    {
     "data": {
      "image/png": "[encoded data removed]",
      "text/plain": [
       "<Figure size 432x288 with 2 Axes>"
      ]
     },
     "metadata": {
      "needs_background": "light"
     },
     "output_type": "display_data"
    }
   ],
   "source": [
    "mu1=5\n",
    "mu2=-1\n",
    "sigma1 = 1 #x维正态分布的标准差\n",
    "sigma2 = 2 #y维正态分布的标准差\n",
    "rho =0.5 #x和y的相关系数\n",
    "\n",
    "#P(x1|x2)\n",
    "def pX1GivenX2(x2):\n",
    "    return np.random.normal(mu1+(x2-mu2)*(sigma1/sigma2)*rho,sigma1*math.sqrt(1-rho*rho))\n",
    "\n",
    "#P(x2|x1)\n",
    "def pX2GivenX1(x1):\n",
    "    return np.random.normal(mu2+(x1-mu1)*(sigma2/sigma1)*rho,sigma2*math.sqrt(1-rho*rho))\n",
    "\n",
    "def gibbs():\n",
    "    x1_states=[]\n",
    "    x2_states=[]\n",
    "    #随机初始化\n",
    "    x1 = np.random.uniform()\n",
    "    x2 = np.random.uniform()\n",
    "    \n",
    "    for i in range(1000000):\n",
    "        x1=pX1GivenX2(x2)\n",
    "        x2=pX2GivenX1(x1)\n",
    "        x1_states.append(x1)\n",
    "        x2_states.append(x2)\n",
    "    return x1_states[-10000:],x2_states[-10000:]\n",
    "\n",
    "def plot_gibbs():\n",
    "    x,y=gibbs()\n",
    "    plt.hexbin(x,y,gridsize=30,cmap='Blues')\n",
    "    plt.colorbar(label='count in bin')\n",
    "    \n",
    "plot_gibbs()\n",
    "        "
   ]
  }
 ],
 "metadata": {
  "kernelspec": {
   "display_name": "Python 3",
   "language": "python",
   "name": "python3"
  },
  "language_info": {
   "codemirror_mode": {
    "name": "ipython",
    "version": 3
   },
   "file_extension": ".py",
   "mimetype": "text/x-python",
   "name": "python",
   "nbconvert_exporter": "python",
   "pygments_lexer": "ipython3",
   "version": "3.7.0"
  },
  "toc": {
   "base_numbering": 1,
   "nav_menu": {},
   "number_sections": true,
   "sideBar": true,
   "skip_h1_title": false,
   "title_cell": "Table of Contents",
   "title_sidebar": "Contents",
   "toc_cell": false,
   "toc_position": {},
   "toc_section_display": true,
   "toc_window_display": false
  },
  "varInspector": {
   "cols": {
    "lenName": 16,
    "lenType": 16,
    "lenVar": 40
   },
   "kernels_config": {
    "python": {
     "delete_cmd_postfix": "",
     "delete_cmd_prefix": "del ",
     "library": "var_list.py",
     "varRefreshCmd": "print(var_dic_list())"
    },
    "r": {
     "delete_cmd_postfix": ") ",
     "delete_cmd_prefix": "rm(",
     "library": "var_list.r",
     "varRefreshCmd": "cat(var_dic_list()) "
    }
   },
   "types_to_exclude": [
    "module",
    "function",
    "builtin_function_or_method",
    "instance",
    "_Feature"
   ],
   "window_display": false
  }
 },
 "nbformat": 4,
 "nbformat_minor": 2
}
