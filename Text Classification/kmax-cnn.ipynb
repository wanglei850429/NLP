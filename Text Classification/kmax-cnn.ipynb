{
 "cells": [
  {
   "cell_type": "code",
   "execution_count": 1,
   "metadata": {
    "ExecuteTime": {
     "end_time": "2019-07-21T05:49:22.407383Z",
     "start_time": "2019-07-21T05:49:16.415246Z"
    }
   },
   "outputs": [
    {
     "name": "stderr",
     "output_type": "stream",
     "text": [
      "D:\\Anaconda3\\envs\\tensorflow-gpu\\lib\\site-packages\\h5py\\__init__.py:36: FutureWarning: Conversion of the second argument of issubdtype from `float` to `np.floating` is deprecated. In future, it will be treated as `np.float64 == np.dtype(float).type`.\n",
      "  from ._conv import register_converters as _register_converters\n",
      "Using TensorFlow backend.\n"
     ]
    }
   ],
   "source": [
    "import numpy as np\n",
    "import tensorflow as tf\n",
    "import pandas as pd\n",
    "import re\n",
    "from nltk.corpus import stopwords\n",
    "from nltk.stem import SnowballStemmer\n",
    "from nltk.stem import WordNetLemmatizer\n",
    "from keras.utils import np_utils\n",
    "from sklearn.model_selection import train_test_split\n",
    "from keras.preprocessing import sequence\n",
    "from keras.preprocessing.text import Tokenizer"
   ]
  },
  {
   "cell_type": "code",
   "execution_count": 2,
   "metadata": {
    "ExecuteTime": {
     "end_time": "2019-07-21T05:49:22.422343Z",
     "start_time": "2019-07-21T05:49:22.417384Z"
    }
   },
   "outputs": [],
   "source": [
    "def load_ag_news(split='train'):\n",
    "    data = pd.read_csv('data/ag_news_csv/{}.csv'.format(split),header=-1)\n",
    "    labels = data[0].values.tolist()\n",
    "    texts = data[1]+data[2]\n",
    "    texts = texts.values.tolist()\n",
    "    return texts,labels"
   ]
  },
  {
   "cell_type": "code",
   "execution_count": 3,
   "metadata": {
    "ExecuteTime": {
     "end_time": "2019-07-21T05:49:23.123510Z",
     "start_time": "2019-07-21T05:49:22.433312Z"
    }
   },
   "outputs": [],
   "source": [
    "texts,labels = load_ag_news()"
   ]
  },
  {
   "cell_type": "code",
   "execution_count": 4,
   "metadata": {
    "ExecuteTime": {
     "end_time": "2019-07-21T05:49:23.396737Z",
     "start_time": "2019-07-21T05:49:23.386763Z"
    }
   },
   "outputs": [],
   "source": [
    "def text_preprocessing(texts):\n",
    "    #只保留字母和数字空格\n",
    "    texts = [re.sub(r'[^A-Za-z0-9 ]','',text) for text in texts]\n",
    "    #去空格字母小写\n",
    "    texts = [[word.strip().lower() for word in text.split(' ')] for text in texts]\n",
    "    #去停用词\n",
    "    english_stopwords = stopwords.words('english')\n",
    "    texts = [list(filter(lambda x:x not in english_stopwords,text)) for text in texts]\n",
    "    #Stemming\n",
    "    stemmer = SnowballStemmer('english')\n",
    "    texts = [[stemmer.stem(word) for word in text] for text in texts]\n",
    "    #Lemma\n",
    "    lemma = WordNetLemmatizer()\n",
    "    texts = [[lemma.lemmatize(word) for word in text] for text in texts]\n",
    "    texts = [' '.join(text) for text in texts]\n",
    "    return texts"
   ]
  },
  {
   "cell_type": "code",
   "execution_count": 5,
   "metadata": {
    "ExecuteTime": {
     "end_time": "2019-07-21T05:50:54.965763Z",
     "start_time": "2019-07-21T05:49:23.659032Z"
    }
   },
   "outputs": [
    {
     "data": {
      "text/plain": [
       "'wall st bear claw back black reutersreut  shortsel wall street dwindlingband ultracyn see green'"
      ]
     },
     "execution_count": 5,
     "metadata": {},
     "output_type": "execute_result"
    }
   ],
   "source": [
    "texts=text_preprocessing(texts)\n",
    "texts[0]"
   ]
  },
  {
   "cell_type": "code",
   "execution_count": 6,
   "metadata": {
    "ExecuteTime": {
     "end_time": "2019-07-21T05:50:55.139271Z",
     "start_time": "2019-07-21T05:50:55.135282Z"
    }
   },
   "outputs": [],
   "source": [
    "def preprocess_label_for_model(labels):\n",
    "    onehot_labels = np_utils.to_categorical(labels)\n",
    "    onehot_labels = onehot_labels[:,1:]\n",
    "    return onehot_labels"
   ]
  },
  {
   "cell_type": "code",
   "execution_count": 7,
   "metadata": {
    "ExecuteTime": {
     "end_time": "2019-07-21T05:50:55.338767Z",
     "start_time": "2019-07-21T05:50:55.324775Z"
    }
   },
   "outputs": [],
   "source": [
    "onehot_labels = preprocess_label_for_model(labels)"
   ]
  },
  {
   "cell_type": "code",
   "execution_count": 8,
   "metadata": {
    "ExecuteTime": {
     "end_time": "2019-07-21T05:50:55.556153Z",
     "start_time": "2019-07-21T05:50:55.507314Z"
    }
   },
   "outputs": [],
   "source": [
    "x_train,x_val,y_train,y_val = train_test_split(texts,onehot_labels,test_size=0.001,shuffle=True,random_state=42)"
   ]
  },
  {
   "cell_type": "code",
   "execution_count": 9,
   "metadata": {
    "ExecuteTime": {
     "end_time": "2019-07-21T05:50:55.897244Z",
     "start_time": "2019-07-21T05:50:55.892257Z"
    }
   },
   "outputs": [],
   "source": [
    "def preprocess_text_for_model(x,token=None,dict_size=8000,max_length=128):\n",
    "    if token is None:\n",
    "        token = Tokenizer(num_words=dict_size)\n",
    "        token.fit_on_texts(x)\n",
    "    texts_seq = token.texts_to_sequences(x)\n",
    "    texts_seq_pad = sequence.pad_sequences(texts_seq,maxlen=max_length)\n",
    "    return texts_seq_pad,token"
   ]
  },
  {
   "cell_type": "code",
   "execution_count": 10,
   "metadata": {
    "ExecuteTime": {
     "end_time": "2019-07-21T05:51:05.956462Z",
     "start_time": "2019-07-21T05:50:56.229352Z"
    }
   },
   "outputs": [],
   "source": [
    "x_train_seq,token = preprocess_text_for_model(x_train)\n",
    "x_val_seq,_ = preprocess_text_for_model(x_val,token)"
   ]
  },
  {
   "cell_type": "code",
   "execution_count": 11,
   "metadata": {
    "ExecuteTime": {
     "end_time": "2019-07-21T05:51:06.294563Z",
     "start_time": "2019-07-21T05:51:06.290571Z"
    }
   },
   "outputs": [],
   "source": [
    "dimension_output=4\n",
    "dict_size=8000\n",
    "embedded_size=128\n",
    "maxlen=128\n",
    "pooling_size=5\n",
    "num_layers=2\n",
    "size_layer=128\n",
    "n_filters=250"
   ]
  },
  {
   "cell_type": "code",
   "execution_count": 12,
   "metadata": {
    "ExecuteTime": {
     "end_time": "2019-07-21T05:51:06.630661Z",
     "start_time": "2019-07-21T05:51:06.626673Z"
    }
   },
   "outputs": [],
   "source": [
    "tf.reset_default_graph()"
   ]
  },
  {
   "cell_type": "code",
   "execution_count": 13,
   "metadata": {
    "ExecuteTime": {
     "end_time": "2019-07-21T05:51:06.983717Z",
     "start_time": "2019-07-21T05:51:06.962773Z"
    }
   },
   "outputs": [],
   "source": [
    "x = tf.placeholder(tf.int32,shape=(None,maxlen),name='x')\n",
    "y = tf.placeholder(tf.float32,shape=(None,dimension_output),name='y')"
   ]
  },
  {
   "cell_type": "code",
   "execution_count": 14,
   "metadata": {
    "ExecuteTime": {
     "end_time": "2019-07-21T05:51:07.324836Z",
     "start_time": "2019-07-21T05:51:07.319818Z"
    }
   },
   "outputs": [],
   "source": [
    "def kmax_pooling(x):\n",
    "    x_ = tf.transpose(x,[0,2,1])\n",
    "    x_ = tf.nn.top_k(x_,5,sorted=False).values\n",
    "    x_ = tf.transpose(x_,[0,2,1])\n",
    "    return tf.reshape(x_,[-1,5,n_filters//3])"
   ]
  },
  {
   "cell_type": "code",
   "execution_count": 15,
   "metadata": {
    "ExecuteTime": {
     "end_time": "2019-07-21T05:51:08.199467Z",
     "start_time": "2019-07-21T05:51:07.669881Z"
    }
   },
   "outputs": [],
   "source": [
    "with tf.name_scope('embedding'):\n",
    "    embedding_matrix = tf.Variable(tf.random_normal([dict_size,embedded_size],-1,1))\n",
    "    embedding = tf.nn.embedding_lookup(embedding_matrix,x)\n",
    "with tf.name_scope('cnn'):\n",
    "    parallels = []\n",
    "    for kernel_size in [3,4,5]:\n",
    "        conv = tf.layers.conv1d(embedding,filters=n_filters//3,kernel_size=kernel_size,activation='relu') #conv shape: batch_size * conv_output_size * filters\n",
    "        pool = kmax_pooling(conv)\n",
    "        parallels.append(pool)\n",
    "with tf.name_scope('concat'):\n",
    "    concat = tf.concat(parallels,axis=-1)\n",
    "    parall = tf.reshape(concat,[-1,5*(n_filters//3)*3])\n",
    "with tf.name_scope('output'):\n",
    "    logits = tf.layers.dense(parall,dimension_output,name='logits')\n",
    "    pred = tf.argmax(logits,1)\n",
    "with tf.name_scope('train'):\n",
    "    loss_func = tf.reduce_mean(tf.nn.softmax_cross_entropy_with_logits_v2(logits=logits,labels=y))\n",
    "    optimizer = tf.train.AdamOptimizer(learning_rate=1e-3).minimize(loss_func)\n",
    "with tf.name_scope('eval'):\n",
    "    accuracy = tf.reduce_mean(tf.cast(tf.equal(tf.argmax(logits,1),tf.argmax(y,1)),tf.float32))"
   ]
  },
  {
   "cell_type": "code",
   "execution_count": 16,
   "metadata": {
    "ExecuteTime": {
     "end_time": "2019-07-21T05:51:08.537559Z",
     "start_time": "2019-07-21T05:51:08.532606Z"
    }
   },
   "outputs": [],
   "source": [
    "def shuffle_batch(x,y,batch_size):\n",
    "    index = np.random.permutation(len(x))\n",
    "    n_batch = len(x) // batch_size\n",
    "    for batch_index in np.array_split(index,n_batch):\n",
    "        x_batch,y_batch = x[batch_index],y[batch_index]\n",
    "        yield x_batch,y_batch"
   ]
  },
  {
   "cell_type": "code",
   "execution_count": 21,
   "metadata": {
    "ExecuteTime": {
     "end_time": "2019-07-21T05:53:08.383060Z",
     "start_time": "2019-07-21T05:53:07.841710Z"
    }
   },
   "outputs": [],
   "source": [
    "sess = tf.Session()\n",
    "sess.run(tf.global_variables_initializer())"
   ]
  },
  {
   "cell_type": "code",
   "execution_count": 22,
   "metadata": {
    "ExecuteTime": {
     "end_time": "2019-07-21T05:53:08.904730Z",
     "start_time": "2019-07-21T05:53:08.900741Z"
    }
   },
   "outputs": [],
   "source": [
    "epochs = 5\n",
    "batch_size = 30"
   ]
  },
  {
   "cell_type": "code",
   "execution_count": 23,
   "metadata": {
    "ExecuteTime": {
     "end_time": "2019-07-21T06:07:58.140861Z",
     "start_time": "2019-07-21T05:53:09.763811Z"
    }
   },
   "outputs": [
    {
     "name": "stdout",
     "output_type": "stream",
     "text": [
      "epoch:0 loss:0.47 acc:0.87\n",
      "epoch:1 loss:0.37 acc:0.86\n",
      "epoch:2 loss:0.31 acc:0.89\n",
      "epoch:3 loss:0.28 acc:0.93\n",
      "epoch:4 loss:0.31 acc:0.91\n"
     ]
    }
   ],
   "source": [
    "for epoch in range(epochs):\n",
    "    for x_batch,y_batch in shuffle_batch(x_train_seq,y_train,batch_size):\n",
    "        sess.run(optimizer,feed_dict={x:x_batch,y:y_batch})\n",
    "    l,a = sess.run([loss_func,accuracy],feed_dict={x:x_val_seq,y:y_val})\n",
    "    print('epoch:%d loss:%.2f acc:%.2f' %(epoch,l,a))"
   ]
  },
  {
   "cell_type": "code",
   "execution_count": 24,
   "metadata": {
    "ExecuteTime": {
     "end_time": "2019-07-21T06:25:36.604127Z",
     "start_time": "2019-07-21T06:25:36.552262Z"
    }
   },
   "outputs": [],
   "source": [
    "sents_test,labels_test=load_ag_news('test')"
   ]
  },
  {
   "cell_type": "code",
   "execution_count": 25,
   "metadata": {
    "ExecuteTime": {
     "end_time": "2019-07-21T06:25:52.351462Z",
     "start_time": "2019-07-21T06:25:46.656697Z"
    }
   },
   "outputs": [],
   "source": [
    "texts_test=text_preprocessing(sents_test)"
   ]
  },
  {
   "cell_type": "code",
   "execution_count": 26,
   "metadata": {
    "ExecuteTime": {
     "end_time": "2019-07-21T06:25:58.747108Z",
     "start_time": "2019-07-21T06:25:58.402864Z"
    }
   },
   "outputs": [],
   "source": [
    "onehot_labels_test = preprocess_label_for_model(labels_test)\n",
    "x_test_seq,_=preprocess_text_for_model(sents_test,token)"
   ]
  },
  {
   "cell_type": "code",
   "execution_count": 33,
   "metadata": {
    "ExecuteTime": {
     "end_time": "2019-07-21T06:31:03.239681Z",
     "start_time": "2019-07-21T06:30:53.085181Z"
    }
   },
   "outputs": [],
   "source": [
    "y_pred=[]\n",
    "for batch in np.array_split(np.arange(x_test_seq.shape[0]),100):\n",
    "    p = sess.run(pred,feed_dict={x:x_test_seq[batch]})\n",
    "    y_pred.extend(p)"
   ]
  },
  {
   "cell_type": "code",
   "execution_count": 35,
   "metadata": {
    "ExecuteTime": {
     "end_time": "2019-07-21T06:32:15.167169Z",
     "start_time": "2019-07-21T06:32:15.162181Z"
    }
   },
   "outputs": [],
   "source": [
    "final_result = [item+1 for item in y_pred]"
   ]
  },
  {
   "cell_type": "code",
   "execution_count": 36,
   "metadata": {
    "ExecuteTime": {
     "end_time": "2019-07-21T06:32:23.417155Z",
     "start_time": "2019-07-21T06:32:23.407182Z"
    }
   },
   "outputs": [
    {
     "data": {
      "text/plain": [
       "0.7785526315789474"
      ]
     },
     "execution_count": 36,
     "metadata": {},
     "output_type": "execute_result"
    }
   ],
   "source": [
    "from sklearn.metrics import accuracy_score\n",
    "accuracy_score(labels_test,final_result)"
   ]
  },
  {
   "cell_type": "code",
   "execution_count": 37,
   "metadata": {
    "ExecuteTime": {
     "end_time": "2019-07-21T06:32:50.138025Z",
     "start_time": "2019-07-21T06:32:50.135033Z"
    }
   },
   "outputs": [],
   "source": [
    "sess.close()"
   ]
  },
  {
   "cell_type": "code",
   "execution_count": null,
   "metadata": {},
   "outputs": [],
   "source": []
  }
 ],
 "metadata": {
  "kernelspec": {
   "display_name": "Python 3",
   "language": "python",
   "name": "python3"
  },
  "language_info": {
   "codemirror_mode": {
    "name": "ipython",
    "version": 3
   },
   "file_extension": ".py",
   "mimetype": "text/x-python",
   "name": "python",
   "nbconvert_exporter": "python",
   "pygments_lexer": "ipython3",
   "version": "3.5.5"
  },
  "toc": {
   "base_numbering": 1,
   "nav_menu": {},
   "number_sections": true,
   "sideBar": true,
   "skip_h1_title": false,
   "title_cell": "Table of Contents",
   "title_sidebar": "Contents",
   "toc_cell": false,
   "toc_position": {},
   "toc_section_display": true,
   "toc_window_display": false
  },
  "varInspector": {
   "cols": {
    "lenName": 16,
    "lenType": 16,
    "lenVar": 40
   },
   "kernels_config": {
    "python": {
     "delete_cmd_postfix": "",
     "delete_cmd_prefix": "del ",
     "library": "var_list.py",
     "varRefreshCmd": "print(var_dic_list())"
    },
    "r": {
     "delete_cmd_postfix": ") ",
     "delete_cmd_prefix": "rm(",
     "library": "var_list.r",
     "varRefreshCmd": "cat(var_dic_list()) "
    }
   },
   "types_to_exclude": [
    "module",
    "function",
    "builtin_function_or_method",
    "instance",
    "_Feature"
   ],
   "window_display": false
  }
 },
 "nbformat": 4,
 "nbformat_minor": 2
}
