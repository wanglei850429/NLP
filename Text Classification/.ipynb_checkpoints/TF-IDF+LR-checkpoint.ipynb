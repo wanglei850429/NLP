{
 "cells": [
  {
   "cell_type": "code",
   "execution_count": 1,
   "metadata": {
    "ExecuteTime": {
     "end_time": "2019-07-18T14:57:47.420221Z",
     "start_time": "2019-07-18T14:57:45.719960Z"
    }
   },
   "outputs": [],
   "source": [
    "import numpy as np\n",
    "import re\n",
    "import itertools\n",
    "import codecs\n",
    "from collections import Counter\n",
    "import jieba\n",
    "from nltk import word_tokenize\n",
    "import pandas as pd"
   ]
  },
  {
   "cell_type": "code",
   "execution_count": 2,
   "metadata": {
    "ExecuteTime": {
     "end_time": "2019-07-18T14:57:47.434952Z",
     "start_time": "2019-07-18T14:57:47.430963Z"
    }
   },
   "outputs": [],
   "source": [
    "def load_ag_news(split='train'):\n",
    "    data = pd.read_csv('data/ag_news_csv/{}.csv'.format(split),header=-1)\n",
    "    labels=data[0].values.tolist()\n",
    "    texts=data[1]+data[2]\n",
    "    texts=texts.values.tolist()\n",
    "#     sentences=[word_tokenize(text) for text in texts]\n",
    "    return texts,labels"
   ]
  },
  {
   "cell_type": "code",
   "execution_count": 4,
   "metadata": {
    "ExecuteTime": {
     "end_time": "2019-07-18T14:58:07.688317Z",
     "start_time": "2019-07-18T14:58:07.245911Z"
    }
   },
   "outputs": [],
   "source": [
    "sents,labels=load_ag_news('train')"
   ]
  },
  {
   "cell_type": "code",
   "execution_count": 6,
   "metadata": {
    "ExecuteTime": {
     "end_time": "2019-07-18T14:58:36.361339Z",
     "start_time": "2019-07-18T14:58:32.776948Z"
    }
   },
   "outputs": [],
   "source": [
    "from sklearn.feature_extraction.text import TfidfVectorizer\n",
    "tfidf = TfidfVectorizer(max_features=1500)\n",
    "x = tfidf.fit_transform(sents)"
   ]
  },
  {
   "cell_type": "code",
   "execution_count": 7,
   "metadata": {
    "ExecuteTime": {
     "end_time": "2019-07-18T14:58:37.335199Z",
     "start_time": "2019-07-18T14:58:37.264213Z"
    }
   },
   "outputs": [],
   "source": [
    "from sklearn.model_selection import train_test_split\n",
    "x_train,x_val,y_train,y_val=train_test_split(x,labels,test_size=0.2,shuffle=True,random_state=42)"
   ]
  },
  {
   "cell_type": "code",
   "execution_count": 8,
   "metadata": {
    "ExecuteTime": {
     "end_time": "2019-07-18T14:58:43.751813Z",
     "start_time": "2019-07-18T14:58:39.608926Z"
    }
   },
   "outputs": [
    {
     "data": {
      "text/plain": [
       "LogisticRegression(C=1.0, class_weight='balanced', dual=False,\n",
       "          fit_intercept=True, intercept_scaling=1, max_iter=100,\n",
       "          multi_class='ovr', n_jobs=1, penalty='l2', random_state=42,\n",
       "          solver='liblinear', tol=0.0001, verbose=0, warm_start=False)"
      ]
     },
     "execution_count": 8,
     "metadata": {},
     "output_type": "execute_result"
    }
   ],
   "source": [
    "from sklearn.linear_model import LogisticRegression\n",
    "lr_model = LogisticRegression(class_weight='balanced',random_state=42)\n",
    "lr_model.fit(x_train,y_train)"
   ]
  },
  {
   "cell_type": "code",
   "execution_count": 9,
   "metadata": {
    "ExecuteTime": {
     "end_time": "2019-07-18T14:58:44.990779Z",
     "start_time": "2019-07-18T14:58:44.973793Z"
    }
   },
   "outputs": [
    {
     "data": {
      "text/plain": [
       "0.88025"
      ]
     },
     "execution_count": 9,
     "metadata": {},
     "output_type": "execute_result"
    }
   ],
   "source": [
    "from sklearn.metrics import accuracy_score,recall_score\n",
    "accuracy_score(y_val,lr_model.predict(x_val))"
   ]
  },
  {
   "cell_type": "code",
   "execution_count": 10,
   "metadata": {
    "ExecuteTime": {
     "end_time": "2019-07-18T14:58:49.303133Z",
     "start_time": "2019-07-18T14:58:49.285183Z"
    }
   },
   "outputs": [
    {
     "data": {
      "text/plain": [
       "0.8800302582477642"
      ]
     },
     "execution_count": 10,
     "metadata": {},
     "output_type": "execute_result"
    }
   ],
   "source": [
    "recall_score(y_val,lr_model.predict(x_val),average='macro')"
   ]
  },
  {
   "cell_type": "code",
   "execution_count": 11,
   "metadata": {
    "ExecuteTime": {
     "end_time": "2019-07-18T14:58:52.167847Z",
     "start_time": "2019-07-18T14:58:52.157861Z"
    }
   },
   "outputs": [],
   "source": [
    "y_pred_val = lr_model.predict(x_val)"
   ]
  },
  {
   "cell_type": "code",
   "execution_count": 12,
   "metadata": {
    "ExecuteTime": {
     "end_time": "2019-07-18T14:58:53.202656Z",
     "start_time": "2019-07-18T14:58:53.164584Z"
    }
   },
   "outputs": [],
   "source": [
    "sents_test,labels_test=load_ag_news('test')"
   ]
  },
  {
   "cell_type": "code",
   "execution_count": 15,
   "metadata": {
    "ExecuteTime": {
     "end_time": "2019-07-18T14:59:10.527733Z",
     "start_time": "2019-07-18T14:59:10.322211Z"
    }
   },
   "outputs": [],
   "source": [
    "x_test = tfidf.transform(sents_test)"
   ]
  },
  {
   "cell_type": "code",
   "execution_count": 16,
   "metadata": {
    "ExecuteTime": {
     "end_time": "2019-07-18T14:59:11.490293Z",
     "start_time": "2019-07-18T14:59:11.479323Z"
    }
   },
   "outputs": [
    {
     "data": {
      "text/plain": [
       "0.8792105263157894"
      ]
     },
     "execution_count": 16,
     "metadata": {},
     "output_type": "execute_result"
    }
   ],
   "source": [
    "accuracy_score(labels_test,lr_model.predict(x_test))"
   ]
  },
  {
   "cell_type": "code",
   "execution_count": null,
   "metadata": {},
   "outputs": [],
   "source": []
  }
 ],
 "metadata": {
  "kernelspec": {
   "display_name": "Python 3",
   "language": "python",
   "name": "python3"
  },
  "language_info": {
   "codemirror_mode": {
    "name": "ipython",
    "version": 3
   },
   "file_extension": ".py",
   "mimetype": "text/x-python",
   "name": "python",
   "nbconvert_exporter": "python",
   "pygments_lexer": "ipython3",
   "version": "3.5.5"
  },
  "toc": {
   "base_numbering": 1,
   "nav_menu": {},
   "number_sections": true,
   "sideBar": true,
   "skip_h1_title": false,
   "title_cell": "Table of Contents",
   "title_sidebar": "Contents",
   "toc_cell": false,
   "toc_position": {},
   "toc_section_display": true,
   "toc_window_display": false
  },
  "varInspector": {
   "cols": {
    "lenName": 16,
    "lenType": 16,
    "lenVar": 40
   },
   "kernels_config": {
    "python": {
     "delete_cmd_postfix": "",
     "delete_cmd_prefix": "del ",
     "library": "var_list.py",
     "varRefreshCmd": "print(var_dic_list())"
    },
    "r": {
     "delete_cmd_postfix": ") ",
     "delete_cmd_prefix": "rm(",
     "library": "var_list.r",
     "varRefreshCmd": "cat(var_dic_list()) "
    }
   },
   "types_to_exclude": [
    "module",
    "function",
    "builtin_function_or_method",
    "instance",
    "_Feature"
   ],
   "window_display": false
  }
 },
 "nbformat": 4,
 "nbformat_minor": 2
}
