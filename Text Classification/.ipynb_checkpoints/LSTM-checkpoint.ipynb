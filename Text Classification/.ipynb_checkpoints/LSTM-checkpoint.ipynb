{
 "cells": [
  {
   "cell_type": "code",
   "execution_count": 1,
   "metadata": {
    "ExecuteTime": {
     "end_time": "2019-07-21T02:30:54.247100Z",
     "start_time": "2019-07-21T02:29:51.855906Z"
    }
   },
   "outputs": [
    {
     "name": "stderr",
     "output_type": "stream",
     "text": [
      "D:\\Anaconda3\\envs\\tensorflow-gpu\\lib\\site-packages\\h5py\\__init__.py:36: FutureWarning: Conversion of the second argument of issubdtype from `float` to `np.floating` is deprecated. In future, it will be treated as `np.float64 == np.dtype(float).type`.\n",
      "  from ._conv import register_converters as _register_converters\n",
      "Using TensorFlow backend.\n"
     ]
    }
   ],
   "source": [
    "import numpy as np\n",
    "from collections import Counter\n",
    "import tensorflow as tf\n",
    "import pandas as pd\n",
    "import re\n",
    "from nltk.corpus import stopwords\n",
    "from nltk.stem import SnowballStemmer\n",
    "from nltk.stem import WordNetLemmatizer\n",
    "from keras.utils import np_utils\n",
    "from sklearn.model_selection import train_test_split\n",
    "from keras.preprocessing import sequence\n",
    "from keras.preprocessing.text import Tokenizer"
   ]
  },
  {
   "cell_type": "code",
   "execution_count": 2,
   "metadata": {
    "ExecuteTime": {
     "end_time": "2019-07-21T02:31:03.998915Z",
     "start_time": "2019-07-21T02:31:03.993949Z"
    }
   },
   "outputs": [],
   "source": [
    "def load_ag_news(split='train'):\n",
    "    data = pd.read_csv('data/ag_news_csv/{}.csv'.format(split),header=-1)\n",
    "    labels = data[0].values.tolist()\n",
    "    texts = data[1]+data[2]\n",
    "    texts = texts.values.tolist()\n",
    "    return texts,labels"
   ]
  },
  {
   "cell_type": "code",
   "execution_count": 3,
   "metadata": {
    "ExecuteTime": {
     "end_time": "2019-07-21T02:31:06.422848Z",
     "start_time": "2019-07-21T02:31:05.015087Z"
    }
   },
   "outputs": [],
   "source": [
    "texts,labels = load_ag_news()"
   ]
  },
  {
   "cell_type": "code",
   "execution_count": 4,
   "metadata": {
    "ExecuteTime": {
     "end_time": "2019-07-21T02:31:07.168661Z",
     "start_time": "2019-07-21T02:31:07.154727Z"
    }
   },
   "outputs": [],
   "source": [
    "def text_preprocessing(texts):\n",
    "    #只保留字母和数字空格\n",
    "    texts = [re.sub(r'[^A-Za-z0-9 ]','',text) for text in texts]\n",
    "    #去空格字母小写\n",
    "    texts = [[word.strip().lower() for word in text.split(' ')] for text in texts]\n",
    "    #去停用词\n",
    "    english_stopwords = stopwords.words('english')\n",
    "    texts = [list(filter(lambda x:x not in english_stopwords,text)) for text in texts]\n",
    "    #Stemming\n",
    "    stemmer = SnowballStemmer('english')\n",
    "    texts = [[stemmer.stem(word) for word in text] for text in texts]\n",
    "    #Lemma\n",
    "    lemma = WordNetLemmatizer()\n",
    "    texts = [[lemma.lemmatize(word) for word in text] for text in texts]\n",
    "    texts = [' '.join(text) for text in texts]\n",
    "    return texts"
   ]
  },
  {
   "cell_type": "code",
   "execution_count": 5,
   "metadata": {
    "ExecuteTime": {
     "end_time": "2019-07-21T02:32:41.872110Z",
     "start_time": "2019-07-21T02:31:08.260431Z"
    }
   },
   "outputs": [],
   "source": [
    "texts=text_preprocessing(texts)"
   ]
  },
  {
   "cell_type": "code",
   "execution_count": 6,
   "metadata": {
    "ExecuteTime": {
     "end_time": "2019-07-21T02:32:46.344129Z",
     "start_time": "2019-07-21T02:32:46.341106Z"
    }
   },
   "outputs": [],
   "source": [
    "def preprocess_label_for_model(labels):\n",
    "    onehot_labels = np_utils.to_categorical(labels)\n",
    "    onehot_labels = onehot_labels[:,1:]\n",
    "    return onehot_labels"
   ]
  },
  {
   "cell_type": "code",
   "execution_count": 7,
   "metadata": {
    "ExecuteTime": {
     "end_time": "2019-07-21T02:32:47.664663Z",
     "start_time": "2019-07-21T02:32:47.533477Z"
    }
   },
   "outputs": [],
   "source": [
    "onehot_labels = preprocess_label_for_model(labels)"
   ]
  },
  {
   "cell_type": "code",
   "execution_count": 8,
   "metadata": {
    "ExecuteTime": {
     "end_time": "2019-07-21T02:32:48.997070Z",
     "start_time": "2019-07-21T02:32:48.842641Z"
    }
   },
   "outputs": [],
   "source": [
    "x_train,x_val,y_train,y_val = train_test_split(texts,onehot_labels,test_size=0.001,shuffle=True,random_state=42)"
   ]
  },
  {
   "cell_type": "code",
   "execution_count": 9,
   "metadata": {
    "ExecuteTime": {
     "end_time": "2019-07-21T02:32:50.293068Z",
     "start_time": "2019-07-21T02:32:50.288111Z"
    }
   },
   "outputs": [],
   "source": [
    "def preprocess_text_for_model(x,token=None,dict_size=8000,max_length=128):\n",
    "    if token is None:\n",
    "        token = Tokenizer(num_words=dict_size)\n",
    "        token.fit_on_texts(x)\n",
    "    texts_seq = token.texts_to_sequences(x)\n",
    "    texts_seq_pad = sequence.pad_sequences(texts_seq,maxlen=max_length)\n",
    "    return texts_seq_pad,token"
   ]
  },
  {
   "cell_type": "code",
   "execution_count": 10,
   "metadata": {
    "ExecuteTime": {
     "end_time": "2019-07-21T02:33:01.074998Z",
     "start_time": "2019-07-21T02:32:51.298437Z"
    }
   },
   "outputs": [],
   "source": [
    "x_train_seq,token = preprocess_text_for_model(x_train)\n",
    "x_val_seq,_ = preprocess_text_for_model(x_val,token)"
   ]
  },
  {
   "cell_type": "code",
   "execution_count": 11,
   "metadata": {
    "ExecuteTime": {
     "end_time": "2019-07-21T02:33:03.654216Z",
     "start_time": "2019-07-21T02:33:03.650226Z"
    }
   },
   "outputs": [],
   "source": [
    "dimension_output=4\n",
    "dict_size=8000\n",
    "embedded_size=128\n",
    "maxlen=128\n",
    "pooling_size=5\n",
    "num_layers=2\n",
    "size_layer=128"
   ]
  },
  {
   "cell_type": "code",
   "execution_count": 12,
   "metadata": {
    "ExecuteTime": {
     "end_time": "2019-07-21T02:33:13.016411Z",
     "start_time": "2019-07-21T02:33:13.013393Z"
    }
   },
   "outputs": [],
   "source": [
    "tf.reset_default_graph()"
   ]
  },
  {
   "cell_type": "code",
   "execution_count": 13,
   "metadata": {
    "ExecuteTime": {
     "end_time": "2019-07-21T02:33:13.943263Z",
     "start_time": "2019-07-21T02:33:13.939302Z"
    }
   },
   "outputs": [],
   "source": [
    "def cells(reuse=False):\n",
    "    return tf.nn.rnn_cell.LSTMCell(num_units=size_layer,initializer=tf.variance_scaling_initializer,reuse=reuse)"
   ]
  },
  {
   "cell_type": "code",
   "execution_count": 14,
   "metadata": {
    "ExecuteTime": {
     "end_time": "2019-07-21T02:33:14.688713Z",
     "start_time": "2019-07-21T02:33:14.665729Z"
    }
   },
   "outputs": [],
   "source": [
    "x = tf.placeholder(tf.int32,shape=(None,None),name='x')\n",
    "y = tf.placeholder(tf.float32,shape=(None,dimension_output),name='y')\n",
    "is_training = tf.placeholder_with_default(True,shape=(),name='is_training')"
   ]
  },
  {
   "cell_type": "code",
   "execution_count": 15,
   "metadata": {
    "ExecuteTime": {
     "end_time": "2019-07-21T02:33:16.391189Z",
     "start_time": "2019-07-21T02:33:15.501550Z"
    }
   },
   "outputs": [],
   "source": [
    "with tf.name_scope('embedding'):\n",
    "    embedding_matrix = tf.Variable(tf.random_normal([dict_size,embedded_size],-1,1))\n",
    "    embedding = tf.nn.embedding_lookup(embedding_matrix,x)\n",
    "with tf.name_scope('rnn'):\n",
    "    rnn_layers = tf.nn.rnn_cell.MultiRNNCell([cells() for _ in range(num_layers)])\n",
    "    #state:(state_c,state_h)\n",
    "    outputs,_ = tf.nn.dynamic_rnn(rnn_layers,embedding,dtype=tf.float32) #outputs dim batch_size * maxlen * embedded_size\n",
    "with tf.name_scope('output'):\n",
    "    #去最后一个时刻的输出\n",
    "    logits = tf.layers.dense(outputs[:,-1],units=4,kernel_initializer=tf.variance_scaling_initializer,name='logits')\n",
    "    pred = tf.argmax(logits, 1)\n",
    "with tf.name_scope('train'):\n",
    "    cost = tf.reduce_mean(tf.nn.softmax_cross_entropy_with_logits_v2(logits = logits, labels = y))\n",
    "    optimizer = tf.train.AdamOptimizer(learning_rate = 1e-4).minimize(cost)\n",
    "with tf.name_scope('eval'):\n",
    "    correct_pred = tf.equal(tf.argmax(logits, 1), tf.argmax(y, 1))\n",
    "    accuracy = tf.reduce_mean(tf.cast(correct_pred, tf.float32))"
   ]
  },
  {
   "cell_type": "code",
   "execution_count": 16,
   "metadata": {
    "ExecuteTime": {
     "end_time": "2019-07-21T02:33:17.755469Z",
     "start_time": "2019-07-21T02:33:17.751454Z"
    }
   },
   "outputs": [],
   "source": [
    "def shuffle_batch(x,y,batch_size):\n",
    "    index = np.random.permutation(len(x))\n",
    "    n_batch = len(x) // batch_size\n",
    "    for batch_index in np.array_split(index,n_batch):\n",
    "        x_batch,y_batch = x[batch_index],y[batch_index]\n",
    "        yield x_batch,y_batch"
   ]
  },
  {
   "cell_type": "code",
   "execution_count": 17,
   "metadata": {
    "ExecuteTime": {
     "end_time": "2019-07-21T02:33:19.850258Z",
     "start_time": "2019-07-21T02:33:19.847266Z"
    }
   },
   "outputs": [],
   "source": [
    "epochs=10\n",
    "batch_size=128"
   ]
  },
  {
   "cell_type": "code",
   "execution_count": 18,
   "metadata": {
    "ExecuteTime": {
     "end_time": "2019-07-21T02:34:29.296574Z",
     "start_time": "2019-07-21T02:34:25.690780Z"
    }
   },
   "outputs": [
    {
     "name": "stdout",
     "output_type": "stream",
     "text": [
      "INFO:tensorflow:Restoring parameters from model/lstm_model.ckpt\n"
     ]
    }
   ],
   "source": [
    "saver = tf.train.Saver()\n",
    "sess = tf.Session()\n",
    "saver.restore(sess,'model/lstm_model.ckpt')\n",
    "\n",
    "# sess.run(tf.global_variables_initializer())\n",
    "# for epoch in range(epochs):\n",
    "#     for x_batch,y_batch in shuffle_batch(x_train_seq,y_train,batch_size):\n",
    "#         sess.run(optimizer,feed_dict={x:x_batch,y:y_batch})\n",
    "#     l,a = sess.run([cost,accuracy],feed_dict={x:x_val_seq,y:y_val})\n",
    "#     print('epoch:%02d loss:%.2f acc:%.2f' %(epoch,l,a))"
   ]
  },
  {
   "cell_type": "code",
   "execution_count": 19,
   "metadata": {
    "ExecuteTime": {
     "end_time": "2019-07-21T02:34:41.006797Z",
     "start_time": "2019-07-21T02:34:40.853726Z"
    }
   },
   "outputs": [],
   "source": [
    "sents_test,labels_test=load_ag_news('test')"
   ]
  },
  {
   "cell_type": "code",
   "execution_count": 20,
   "metadata": {
    "ExecuteTime": {
     "end_time": "2019-07-21T02:35:04.950063Z",
     "start_time": "2019-07-21T02:34:59.233202Z"
    }
   },
   "outputs": [],
   "source": [
    "texts_test=text_preprocessing(sents_test)"
   ]
  },
  {
   "cell_type": "code",
   "execution_count": 21,
   "metadata": {
    "ExecuteTime": {
     "end_time": "2019-07-21T02:35:13.839266Z",
     "start_time": "2019-07-21T02:35:13.495397Z"
    }
   },
   "outputs": [],
   "source": [
    "onehot_labels_test = preprocess_label_for_model(labels_test)\n",
    "x_test_seq,_=preprocess_text_for_model(sents_test,token)"
   ]
  },
  {
   "cell_type": "code",
   "execution_count": 23,
   "metadata": {
    "ExecuteTime": {
     "end_time": "2019-07-21T02:47:19.111630Z",
     "start_time": "2019-07-21T02:37:09.862295Z"
    }
   },
   "outputs": [],
   "source": [
    "y_pred=[]\n",
    "for item in x_test_seq:\n",
    "    p = sess.run(pred,feed_dict={x:item.reshape(-1,128)})\n",
    "    y_pred.append(p)"
   ]
  },
  {
   "cell_type": "code",
   "execution_count": 24,
   "metadata": {
    "ExecuteTime": {
     "end_time": "2019-07-21T02:47:56.524470Z",
     "start_time": "2019-07-21T02:47:56.503484Z"
    }
   },
   "outputs": [
    {
     "data": {
      "text/plain": [
       "0.7872368421052631"
      ]
     },
     "execution_count": 24,
     "metadata": {},
     "output_type": "execute_result"
    }
   ],
   "source": [
    "final_result = [item.tolist()[0]+1 for item in y_pred]\n",
    "from sklearn.metrics import accuracy_score\n",
    "accuracy_score(labels_test,final_result)"
   ]
  },
  {
   "cell_type": "code",
   "execution_count": 72,
   "metadata": {
    "ExecuteTime": {
     "end_time": "2019-07-20T11:43:31.184050Z",
     "start_time": "2019-07-20T11:43:30.521475Z"
    }
   },
   "outputs": [
    {
     "data": {
      "text/plain": [
       "'model/lstm_model.ckpt'"
      ]
     },
     "execution_count": 72,
     "metadata": {},
     "output_type": "execute_result"
    }
   ],
   "source": [
    "saver = tf.train.Saver()\n",
    "saver.save(sess, \"model/lstm_model.ckpt\")"
   ]
  },
  {
   "cell_type": "code",
   "execution_count": 25,
   "metadata": {
    "ExecuteTime": {
     "end_time": "2019-07-21T02:48:14.812489Z",
     "start_time": "2019-07-21T02:48:14.808529Z"
    }
   },
   "outputs": [],
   "source": [
    "sess.close()"
   ]
  },
  {
   "cell_type": "code",
   "execution_count": null,
   "metadata": {},
   "outputs": [],
   "source": []
  }
 ],
 "metadata": {
  "kernelspec": {
   "display_name": "Python 3",
   "language": "python",
   "name": "python3"
  },
  "language_info": {
   "codemirror_mode": {
    "name": "ipython",
    "version": 3
   },
   "file_extension": ".py",
   "mimetype": "text/x-python",
   "name": "python",
   "nbconvert_exporter": "python",
   "pygments_lexer": "ipython3",
   "version": "3.5.5"
  },
  "toc": {
   "base_numbering": 1,
   "nav_menu": {},
   "number_sections": true,
   "sideBar": true,
   "skip_h1_title": false,
   "title_cell": "Table of Contents",
   "title_sidebar": "Contents",
   "toc_cell": false,
   "toc_position": {},
   "toc_section_display": true,
   "toc_window_display": false
  },
  "varInspector": {
   "cols": {
    "lenName": 16,
    "lenType": 16,
    "lenVar": 40
   },
   "kernels_config": {
    "python": {
     "delete_cmd_postfix": "",
     "delete_cmd_prefix": "del ",
     "library": "var_list.py",
     "varRefreshCmd": "print(var_dic_list())"
    },
    "r": {
     "delete_cmd_postfix": ") ",
     "delete_cmd_prefix": "rm(",
     "library": "var_list.r",
     "varRefreshCmd": "cat(var_dic_list()) "
    }
   },
   "types_to_exclude": [
    "module",
    "function",
    "builtin_function_or_method",
    "instance",
    "_Feature"
   ],
   "window_display": false
  }
 },
 "nbformat": 4,
 "nbformat_minor": 2
}
