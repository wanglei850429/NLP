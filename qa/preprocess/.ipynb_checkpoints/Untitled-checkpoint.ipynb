{
 "cells": [
  {
   "cell_type": "code",
   "execution_count": 2,
   "metadata": {
    "ExecuteTime": {
     "end_time": "2019-08-04T14:37:41.127587Z",
     "start_time": "2019-08-04T14:37:40.394385Z"
    }
   },
   "outputs": [],
   "source": [
    "import pandas as pd\n",
    "import numpy as np\n",
    "import re"
   ]
  },
  {
   "cell_type": "code",
   "execution_count": 3,
   "metadata": {
    "ExecuteTime": {
     "end_time": "2019-08-04T14:37:46.400396Z",
     "start_time": "2019-08-04T14:37:42.406789Z"
    }
   },
   "outputs": [],
   "source": [
    "def preprocess2(input_file, output_file):\n",
    "    fout = open(output_file, 'w', encoding='utf-8')\n",
    "    with open(input_file, \"r\", encoding='utf-8') as f:\n",
    "        for line in f:\n",
    "            #print(line)\n",
    "            result = re.search('\"(.*)\",\"(.*)\",\"(.*)\",\"(.*)\"', line)\n",
    "            line = '%s|%s|%s|%s' %(result.group(1),result.group(2), result.group(3), result.group(4))\n",
    "            fout.write(line)\n",
    "            fout.write('\\n')\n",
    "\n",
    "    fout.close()           \n",
    "preprocess2('../data/kuaixue_p1.csv', '../data/kuaixue_p2.csv')"
   ]
  },
  {
   "cell_type": "code",
   "execution_count": null,
   "metadata": {},
   "outputs": [],
   "source": []
  }
 ],
 "metadata": {
  "kernelspec": {
   "display_name": "Python 3",
   "language": "python",
   "name": "python3"
  },
  "language_info": {
   "codemirror_mode": {
    "name": "ipython",
    "version": 3
   },
   "file_extension": ".py",
   "mimetype": "text/x-python",
   "name": "python",
   "nbconvert_exporter": "python",
   "pygments_lexer": "ipython3",
   "version": "3.6.7"
  },
  "toc": {
   "base_numbering": 1,
   "nav_menu": {},
   "number_sections": true,
   "sideBar": true,
   "skip_h1_title": false,
   "title_cell": "Table of Contents",
   "title_sidebar": "Contents",
   "toc_cell": false,
   "toc_position": {},
   "toc_section_display": true,
   "toc_window_display": false
  }
 },
 "nbformat": 4,
 "nbformat_minor": 2
}
