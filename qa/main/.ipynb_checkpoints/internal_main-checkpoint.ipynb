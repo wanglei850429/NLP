{
 "cells": [
  {
   "cell_type": "code",
   "execution_count": 2,
   "metadata": {
    "ExecuteTime": {
     "end_time": "2019-08-04T15:02:23.967701Z",
     "start_time": "2019-08-04T15:02:23.936501Z"
    }
   },
   "outputs": [
    {
     "ename": "NameError",
     "evalue": "name 'input_file' is not defined",
     "output_type": "error",
     "traceback": [
      "\u001b[1;31m---------------------------------------------------------------------------\u001b[0m",
      "\u001b[1;31mNameError\u001b[0m                                 Traceback (most recent call last)",
      "\u001b[1;32m<ipython-input-2-11b36aeda912>\u001b[0m in \u001b[0;36m<module>\u001b[1;34m()\u001b[0m\n\u001b[0;32m     27\u001b[0m \u001b[1;33m\u001b[0m\u001b[0m\n\u001b[0;32m     28\u001b[0m     \u001b[1;32mif\u001b[0m \u001b[0mGENERATE_VECT\u001b[0m\u001b[1;33m:\u001b[0m\u001b[1;33m\u001b[0m\u001b[1;33m\u001b[0m\u001b[0m\n\u001b[1;32m---> 29\u001b[1;33m         \u001b[0mword2vect\u001b[0m\u001b[1;33m.\u001b[0m\u001b[0mgenerate_model\u001b[0m\u001b[1;33m(\u001b[0m\u001b[0minput_file\u001b[0m\u001b[1;33m,\u001b[0m\u001b[0mstop_words_file\u001b[0m\u001b[1;33m,\u001b[0m \u001b[0mmy_vect_file\u001b[0m\u001b[1;33m)\u001b[0m\u001b[1;33m\u001b[0m\u001b[1;33m\u001b[0m\u001b[0m\n\u001b[0m\u001b[0;32m     30\u001b[0m \u001b[1;33m\u001b[0m\u001b[0m\n\u001b[0;32m     31\u001b[0m     \u001b[1;32mif\u001b[0m \u001b[0mLOAD_DATA\u001b[0m\u001b[1;33m:\u001b[0m\u001b[1;33m\u001b[0m\u001b[1;33m\u001b[0m\u001b[0m\n",
      "\u001b[1;31mNameError\u001b[0m: name 'input_file' is not defined"
     ]
    }
   ],
   "source": [
    "#!/usr/bin/python\n",
    "import sys\n",
    "sys.path.append('../')\n",
    "from preprocess import preprocess\n",
    "#from es_model import *\n",
    "from es import es_model\n",
    "from utils import utils\n",
    "from model import word2vect\n",
    "import os\n",
    "import time\n",
    "\n",
    "LOAD_DATA = False\n",
    "INDEX_NAME = 'qa'\n",
    "PREPROCESS = False\n",
    "\n",
    "GENERATE_VECT = True\n",
    "TOPN = 20\n",
    "org_input_file = '../data/kuaixue_org.csv'\n",
    "input_file = '../data/kuaixue_p.csv'\n",
    "\n",
    "stop_words_file = '../data/stopwords.txt'\n",
    "my_vect_file = '../data/question.word2vec.bin'\n",
    "\n",
    "if __name__ == \"__main__\":\n",
    "    if PREPROCESS:\n",
    "        preprocess.preprocess(org_input_file, input_file)\n",
    "\n",
    "    if GENERATE_VECT:\n",
    "        word2vect.generate_model(input_file,stop_words_file, my_vect_file)\n",
    "        \n",
    "    if LOAD_DATA:\n",
    "        if  os.path.exists(input_file):\n",
    "            es_mode = es_model.ES_Model(input_file, INDEX_NAME, stop_words_file ,True)\n",
    "        else:\n",
    "            print(\"Input file is not exist\")\n",
    "    else:\n",
    "        #es_mode = es_model.ES_Model(input_file, INDEX_NAME, stop_words_file ,False)\n",
    "        pass\n"
   ]
  },
  {
   "cell_type": "code",
   "execution_count": null,
   "metadata": {},
   "outputs": [],
   "source": []
  }
 ],
 "metadata": {
  "kernelspec": {
   "display_name": "Python 3",
   "language": "python",
   "name": "python3"
  },
  "language_info": {
   "codemirror_mode": {
    "name": "ipython",
    "version": 3
   },
   "file_extension": ".py",
   "mimetype": "text/x-python",
   "name": "python",
   "nbconvert_exporter": "python",
   "pygments_lexer": "ipython3",
   "version": "3.6.7"
  },
  "toc": {
   "base_numbering": 1,
   "nav_menu": {},
   "number_sections": true,
   "sideBar": true,
   "skip_h1_title": false,
   "title_cell": "Table of Contents",
   "title_sidebar": "Contents",
   "toc_cell": false,
   "toc_position": {},
   "toc_section_display": true,
   "toc_window_display": false
  }
 },
 "nbformat": 4,
 "nbformat_minor": 2
}
