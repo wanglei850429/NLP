{
 "cells": [
  {
   "cell_type": "code",
   "execution_count": 2,
   "metadata": {
    "ExecuteTime": {
     "end_time": "2019-08-04T15:21:43.940246Z",
     "start_time": "2019-08-04T15:14:40.079996Z"
    }
   },
   "outputs": [],
   "source": [
    "#!/usr/bin/python\n",
    "import sys\n",
    "sys.path.append('../')\n",
    "from preprocess import preprocess\n",
    "#from es_model import *\n",
    "from es import es_model\n",
    "from utils import utils\n",
    "from model import word2vect\n",
    "import os\n",
    "import time\n",
    "\n",
    "LOAD_DATA = False\n",
    "INDEX_NAME = 'qa'\n",
    "PREPROCESS = False\n",
    "\n",
    "GENERATE_VECT = True\n",
    "TOPN = 20\n",
    "org_input_file = '../data/kuaixue_org.csv'\n",
    "input_file = '../data/kuaixue_p.csv'\n",
    "\n",
    "stop_words_file = '../data/stopwords.txt'\n",
    "my_vect_file = '../data/question.word2vec.bin'\n",
    "\n",
    "if __name__ == \"__main__\":\n",
    "    if PREPROCESS:\n",
    "        preprocess.preprocess(org_input_file, input_file)\n",
    "\n",
    "    if GENERATE_VECT:\n",
    "        word2vect.generate_model(input_file,stop_words_file, my_vect_file)\n",
    "        \n",
    "    if LOAD_DATA:\n",
    "        if  os.path.exists(input_file):\n",
    "            es_mode = es_model.ES_Model(input_file, INDEX_NAME, stop_words_file ,True)\n",
    "        else:\n",
    "            print(\"Input file is not exist\")\n",
    "    else:\n",
    "        #es_mode = es_model.ES_Model(input_file, INDEX_NAME, stop_words_file ,False)\n",
    "        pass\n"
   ]
  },
  {
   "cell_type": "code",
   "execution_count": null,
   "metadata": {},
   "outputs": [],
   "source": []
  }
 ],
 "metadata": {
  "kernelspec": {
   "display_name": "Python 3",
   "language": "python",
   "name": "python3"
  },
  "language_info": {
   "codemirror_mode": {
    "name": "ipython",
    "version": 3
   },
   "file_extension": ".py",
   "mimetype": "text/x-python",
   "name": "python",
   "nbconvert_exporter": "python",
   "pygments_lexer": "ipython3",
   "version": "3.6.7"
  },
  "toc": {
   "base_numbering": 1,
   "nav_menu": {},
   "number_sections": true,
   "sideBar": true,
   "skip_h1_title": false,
   "title_cell": "Table of Contents",
   "title_sidebar": "Contents",
   "toc_cell": false,
   "toc_position": {},
   "toc_section_display": true,
   "toc_window_display": false
  }
 },
 "nbformat": 4,
 "nbformat_minor": 2
}
