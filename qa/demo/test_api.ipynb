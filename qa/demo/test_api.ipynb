{
 "cells": [
  {
   "cell_type": "code",
   "execution_count": 2,
   "metadata": {
    "ExecuteTime": {
     "end_time": "2019-08-04T10:21:05.053563Z",
     "start_time": "2019-08-04T10:21:04.023961Z"
    }
   },
   "outputs": [
    {
     "name": "stderr",
     "output_type": "stream",
     "text": [
      "Building prefix dict from the default dictionary ...\n",
      "Loading model from cache C:\\Users\\ADMINI~1\\AppData\\Local\\Temp\\jieba.cache\n"
     ]
    },
    {
     "name": "stdout",
     "output_type": "stream",
     "text": [
      "build mode success\n"
     ]
    },
    {
     "name": "stderr",
     "output_type": "stream",
     "text": [
      "Loading model cost 0.749 seconds.\n",
      "Prefix dict has been built succesfully.\n"
     ]
    },
    {
     "name": "stdout",
     "output_type": "stream",
     "text": [
      "{'took': 6, 'timed_out': False, '_shards': {'total': 1, 'successful': 1, 'skipped': 0, 'failed': 0}, 'hits': {'total': {'value': 1051, 'relation': 'eq'}, 'max_score': 18.516407, 'hits': [{'_index': 'qa', '_type': '_doc', '_id': 'kBAfUWwBXNyn17pDWYdZ', '_score': 18.516407, '_source': {'question_id': '806617', 'question': '老师，office2010和2007版可以下载吗？', 'anwser': '你好，是的，可以去下载然后安装的'}}, {'_index': 'qa', '_type': '_doc', '_id': 'kRAfUWwBXNyn17pDWYdZ', '_score': 18.516407, '_source': {'question_id': '806617', 'question': '老师，office2010和2007版可以下载吗？', 'anwser': '你好，去搜索这个软件，然后下载安装包，然后双击安装就是了'}}, {'_index': 'qa', '_type': '_doc', '_id': 'khAfUWwBXNyn17pDWYdZ', '_score': 18.516407, '_source': {'question_id': '806617', 'question': '老师，office2010和2007版可以下载吗？', 'anwser': '能给我发个步骤吗？老师'}}, {'_index': 'qa', '_type': '_doc', '_id': 'whMgUWwBXNyn17pDSSZS', '_score': 15.145819, '_source': {'question_id': '879624', 'question': '老师好！用学堂的快账录入金额时，没有千分位符号，是否下载excl2010软件？', 'anwser': '您好，关于快账问题，请咨询以下扣扣群内的老师，那是最权威的解释，谢谢。'}}, {'_index': 'qa', '_type': '_doc', '_id': 'yRIgUWwBXNyn17pDOv3h', '_score': 13.691931, '_source': {'question_id': '875411', 'question': '老师只有2010版才有书法字帖，可是下载还的付费了，可以通过什么途径弄书法字贴，我想给孩子打印出来练字。求救', 'anwser': '你好，本网站不负责解答会计以外的问题，建议你百度搜下'}}]}}\n",
      "806617\t老师，office2010和2007版可以下载吗？\t你好，是的，可以去下载然后安装的\n",
      "806617\t老师，office2010和2007版可以下载吗？\t你好，去搜索这个软件，然后下载安装包，然后双击安装就是了\n",
      "806617\t老师，office2010和2007版可以下载吗？\t能给我发个步骤吗？老师\n",
      "879624\t老师好！用学堂的快账录入金额时，没有千分位符号，是否下载excl2010软件？\t您好，关于快账问题，请咨询以下扣扣群内的老师，那是最权威的解释，谢谢。\n",
      "875411\t老师只有2010版才有书法字帖，可是下载还的付费了，可以通过什么途径弄书法字贴，我想给孩子打印出来练字。求救\t你好，本网站不负责解答会计以外的问题，建议你百度搜下\n",
      "<gensim.models.keyedvectors.KeyedVectors object at 0x00000000089C4048>\n",
      "---------------------------------------------------------\n",
      "问题: 老师，office2010和2007版可以下载吗？\n",
      "答案:你好，是的，可以去下载然后安装的\n",
      "---------------------------------------------------------\n",
      "问题: 老师，office2010和2007版可以下载吗？\n",
      "答案:你好，去搜索这个软件，然后下载安装包，然后双击安装就是了\n",
      "---------------------------------------------------------\n",
      "问题: 老师，office2010和2007版可以下载吗？\n",
      "答案:能给我发个步骤吗？老师\n",
      "---------------------------------------------------------\n",
      "问题: 老师好！用学堂的快账录入金额时，没有千分位符号，是否下载excl2010软件？\n",
      "答案:您好，关于快账问题，请咨询以下扣扣群内的老师，那是最权威的解释，谢谢。\n",
      "---------------------------------------------------------\n",
      "问题: 老师只有2010版才有书法字帖，可是下载还的付费了，可以通过什么途径弄书法字贴，我想给孩子打印出来练字。求救\n",
      "答案:你好，本网站不负责解答会计以外的问题，建议你百度搜下\n",
      "\n",
      "---------------------------------------------------------\n",
      "词向量重排后的结果：\n",
      "---------------------------------------------------------\n",
      "问题: 老师，office2010和2007版可以下载吗？\n",
      "答案:你好，是的，可以去下载然后安装的\n",
      "相似度:0.814242\n",
      "---------------------------------------------------------\n",
      "问题: 老师，office2010和2007版可以下载吗？\n",
      "答案:你好，去搜索这个软件，然后下载安装包，然后双击安装就是了\n",
      "相似度:0.814242\n",
      "---------------------------------------------------------\n",
      "问题: 老师，office2010和2007版可以下载吗？\n",
      "答案:能给我发个步骤吗？老师\n",
      "相似度:0.814242\n",
      "---------------------------------------------------------\n",
      "问题: 老师只有2010版才有书法字帖，可是下载还的付费了，可以通过什么途径弄书法字贴，我想给孩子打印出来练字。求救\n",
      "答案:你好，本网站不负责解答会计以外的问题，建议你百度搜下\n",
      "相似度:0.709784\n",
      "---------------------------------------------------------\n",
      "问题: 老师好！用学堂的快账录入金额时，没有千分位符号，是否下载excl2010软件？\n",
      "答案:您好，关于快账问题，请咨询以下扣扣群内的老师，那是最权威的解释，谢谢。\n",
      "相似度:0.610893\n"
     ]
    }
   ],
   "source": [
    "#!/usr/bin/python\n",
    "import sys\n",
    "sys.path.append('../')\n",
    "\n",
    "from api.qa_api import QuestionsAndAnswers\n",
    "\n",
    "if __name__ == \"__main__\":\n",
    "    qa = QuestionsAndAnswers()\n",
    "    qa.get(\"offcie2010 下载\")"
   ]
  },
  {
   "cell_type": "code",
   "execution_count": null,
   "metadata": {},
   "outputs": [],
   "source": []
  }
 ],
 "metadata": {
  "kernelspec": {
   "display_name": "Python 3",
   "language": "python",
   "name": "python3"
  },
  "language_info": {
   "codemirror_mode": {
    "name": "ipython",
    "version": 3
   },
   "file_extension": ".py",
   "mimetype": "text/x-python",
   "name": "python",
   "nbconvert_exporter": "python",
   "pygments_lexer": "ipython3",
   "version": "3.6.7"
  },
  "toc": {
   "base_numbering": 1,
   "nav_menu": {},
   "number_sections": true,
   "sideBar": true,
   "skip_h1_title": false,
   "title_cell": "Table of Contents",
   "title_sidebar": "Contents",
   "toc_cell": false,
   "toc_position": {},
   "toc_section_display": true,
   "toc_window_display": false
  }
 },
 "nbformat": 4,
 "nbformat_minor": 2
}
